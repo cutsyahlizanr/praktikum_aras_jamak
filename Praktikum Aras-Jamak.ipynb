{
 "cells": [
  {
   "cell_type": "markdown",
   "id": "13de1ccb",
   "metadata": {},
   "source": [
    "# Cut Syahliza Nurrizky\n",
    "# 201931010"
   ]
  },
  {
   "cell_type": "markdown",
   "id": "0b9de7fc",
   "metadata": {},
   "source": [
    "# Import library"
   ]
  },
  {
   "cell_type": "code",
   "execution_count": 1,
   "id": "28a41311",
   "metadata": {},
   "outputs": [],
   "source": [
    "import cv2\n",
    "import numpy as np\n",
    "from matplotlib import pyplot as plt"
   ]
  },
  {
   "cell_type": "code",
   "execution_count": 2,
   "id": "1f230c95",
   "metadata": {},
   "outputs": [],
   "source": [
    "daun = cv2.imread(\"daun.jpg\",0)\n",
    "tinggi, lebar = daun.shape"
   ]
  },
  {
   "cell_type": "code",
   "execution_count": 3,
   "id": "37909959",
   "metadata": {},
   "outputs": [],
   "source": [
    "cv2.imshow (\"gambar asli - Cut Syahliza Nurrizky-201931010\", daun)\n",
    "cv2.waitKey(0)\n",
    "cv2.destroyAllWindows()"
   ]
  },
  {
   "cell_type": "markdown",
   "id": "e78e6cb2",
   "metadata": {},
   "source": [
    "# Konversi RGB to HLS"
   ]
  },
  {
   "cell_type": "code",
   "execution_count": 4,
   "id": "fc9391dc",
   "metadata": {},
   "outputs": [],
   "source": [
    "daun = cv2.imread(\"daun.jpg\")\n",
    "daun_hls = cv2.cvtColor(daun, cv2.COLOR_BGR2HLS)\n",
    "tinggi, lebar = daun.shape[:2]"
   ]
  },
  {
   "cell_type": "code",
   "execution_count": 5,
   "id": "1c576ebd",
   "metadata": {},
   "outputs": [],
   "source": [
    "for x in range(tinggi):\n",
    "    for y in range(lebar):\n",
    "        h, l, s = daun_hls[x, y]\n",
    "    \n",
    "        if h < 11 :\n",
    "            h = 0\n",
    "        elif h < 32 :\n",
    "            h = 21\n",
    "        elif h < 54 :\n",
    "            h = 43;\n",
    "        elif h < 116 :\n",
    "            h = 85;\n",
    "        elif h < 141 :\n",
    "            h = 128;\n",
    "        elif h < 185 :\n",
    "            h = 170;\n",
    "        elif h < 202 :\n",
    "            h = 191;\n",
    "        elif h < 223 :\n",
    "            h = 213;\n",
    "        elif h < 244 :\n",
    "            h = 234;\n",
    "        else :\n",
    "            h = 0;\n",
    "    \n",
    "        daun_hls[x,y][0] = h\n",
    " \n",
    "        if s >= 200 :\n",
    "            daun_hls[x,y][2] = 255\n",
    "        elif s <= 20 :\n",
    "            daun_hls[x,y][2] = 0\n",
    "        else :\n",
    "            daun_hls[x,y][2] = 128\n",
    "    \n",
    "        if l >= 200 :\n",
    "            daun_hls[x,y][1] = 255;\n",
    "        elif l <= 20 :\n",
    "            daun_hls[x,y][1] = 0;\n",
    "        else :\n",
    "            daun_hls[x,y][1] = 128;\n",
    " \n",
    "daun_res = cv2.cvtColor(daun_hls, cv2.COLOR_HLS2BGR)"
   ]
  },
  {
   "cell_type": "code",
   "execution_count": 6,
   "id": "692c6fa0",
   "metadata": {},
   "outputs": [],
   "source": [
    "cv2.imshow(\"Daun\", daun_res)\n",
    "cv2.waitKey(0)\n",
    "cv2.destroyAllWindows()"
   ]
  },
  {
   "cell_type": "code",
   "execution_count": null,
   "id": "792b6b62",
   "metadata": {},
   "outputs": [],
   "source": []
  }
 ],
 "metadata": {
  "kernelspec": {
   "display_name": "Python 3 (ipykernel)",
   "language": "python",
   "name": "python3"
  },
  "language_info": {
   "codemirror_mode": {
    "name": "ipython",
    "version": 3
   },
   "file_extension": ".py",
   "mimetype": "text/x-python",
   "name": "python",
   "nbconvert_exporter": "python",
   "pygments_lexer": "ipython3",
   "version": "3.9.13"
  }
 },
 "nbformat": 4,
 "nbformat_minor": 5
}
